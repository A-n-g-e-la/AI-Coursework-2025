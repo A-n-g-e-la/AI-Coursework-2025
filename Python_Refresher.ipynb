{
  "nbformat": 4,
  "nbformat_minor": 0,
  "metadata": {
    "colab": {
      "provenance": []
    },
    "kernelspec": {
      "name": "python3",
      "display_name": "Python 3"
    },
    "language_info": {
      "name": "python"
    }
  },
  "cells": [
    {
      "cell_type": "markdown",
      "source": [
        "Question 1"
      ],
      "metadata": {
        "id": "2hFEjS-URUJn"
      }
    },
    {
      "cell_type": "code",
      "execution_count": null,
      "metadata": {
        "colab": {
          "base_uri": "https://localhost:8080/"
        },
        "collapsed": true,
        "id": "VThJLhw8QYKI",
        "outputId": "bb54f08f-895d-4560-e9a4-6710839494fd"
      },
      "outputs": [
        {
          "output_type": "stream",
          "name": "stdout",
          "text": [
            "Enter any number of days:\n",
            "1\n",
            "There are 86400 seconds in 1 days\n"
          ]
        }
      ],
      "source": [
        "print(\"Enter any number of days:\")\n",
        "days = int(input())\n",
        "seconds = days*24*60*60\n",
        "print(f\"There are {seconds} seconds in {days} days\")\n"
      ]
    },
    {
      "cell_type": "markdown",
      "source": [
        "Question 2"
      ],
      "metadata": {
        "id": "xP6T7lJFRkCD"
      }
    },
    {
      "cell_type": "code",
      "source": [
        "print(\"Input the radius of a sphere: \")\n",
        "radius = float(input())\n",
        "volume = (4/3)*3.14*radius**3\n",
        "print(f\"The volume of the sphere with radius {radius} is {volume}\")"
      ],
      "metadata": {
        "colab": {
          "base_uri": "https://localhost:8080/"
        },
        "id": "ZUFia5iDRDi6",
        "outputId": "62aadd27-efb7-4fc2-cc99-b429aa241b36"
      },
      "execution_count": null,
      "outputs": [
        {
          "output_type": "stream",
          "name": "stdout",
          "text": [
            "Input the radius of a sphere: \n",
            "5\n",
            "The volume of the sphere with radius 5.0 is 523.3333333333334\n"
          ]
        }
      ]
    },
    {
      "cell_type": "markdown",
      "source": [
        "Question 3"
      ],
      "metadata": {
        "id": "A-FAlwByRmAf"
      }
    },
    {
      "cell_type": "code",
      "source": [
        "def area():\n",
        "     print(\"Input the length of a square :\")\n",
        "     length = float(input())\n",
        "     s_area = length*length\n",
        "     perimeter = length*4\n",
        "     print(f\"The area of the square with length {length} is {s_area}\")\n",
        "     print(f\"The perimeter of the square of length {length} is {perimeter}\")\n",
        "\n",
        "area()"
      ],
      "metadata": {
        "colab": {
          "base_uri": "https://localhost:8080/"
        },
        "id": "VSuwVveaROvL",
        "outputId": "db212724-6df2-4cfe-a91e-9eafd481e3aa"
      },
      "execution_count": null,
      "outputs": [
        {
          "output_type": "stream",
          "name": "stdout",
          "text": [
            "Input the length of a square :\n",
            "4\n",
            "The area of the square with length 4.0 is 16.0\n",
            "The perimeter of the square of length 4.0 is 16.0\n"
          ]
        }
      ]
    },
    {
      "cell_type": "markdown",
      "source": [
        "Question 4"
      ],
      "metadata": {
        "id": "a3h4OkIKRy01"
      }
    },
    {
      "cell_type": "code",
      "source": [
        "def determining_case():\n",
        "    print(\"Enter a sentence:\")\n",
        "    user_input = input()\n",
        "    if user_input.islower():\n",
        "        print(\"The string is in lowercase.\")\n",
        "    elif user_input.isupper():\n",
        "        print(\"The string is in uppercase.\")\n",
        "    else:\n",
        "        print(\"The string contains both uppercase and lowercase characters.\")\n",
        "\n",
        "determining_case()"
      ],
      "metadata": {
        "colab": {
          "base_uri": "https://localhost:8080/"
        },
        "id": "Id-7G6JpRoiK",
        "outputId": "cc0a0901-b1a2-4bbd-990a-5d6999064e92"
      },
      "execution_count": null,
      "outputs": [
        {
          "output_type": "stream",
          "name": "stdout",
          "text": [
            "Enter a sentence:\n",
            "hello Sun\n",
            "The string contains both uppercase and lowercase characters.\n"
          ]
        }
      ]
    },
    {
      "cell_type": "markdown",
      "source": [
        "Question 5"
      ],
      "metadata": {
        "id": "ZCCHVPNLR1xK"
      }
    },
    {
      "cell_type": "code",
      "source": [
        "def computation():\n",
        "    x=0\n",
        "    y=20\n",
        "    while y>=6:\n",
        "       y=y-4\n",
        "       x=x+2/y\n",
        "    return x\n",
        "\n",
        "print(computation())"
      ],
      "metadata": {
        "colab": {
          "base_uri": "https://localhost:8080/"
        },
        "id": "GrtYlLS6R6Ni",
        "outputId": "94d16b00-00e6-4ec6-c516-1dc2abd00855"
      },
      "execution_count": null,
      "outputs": [
        {
          "output_type": "stream",
          "name": "stdout",
          "text": [
            "1.0416666666666665\n"
          ]
        }
      ]
    },
    {
      "cell_type": "markdown",
      "source": [
        "Question 6"
      ],
      "metadata": {
        "id": "ZrVJYlo6R77l"
      }
    },
    {
      "cell_type": "code",
      "source": [
        "def u_average():\n",
        " total = 0\n",
        " count = 0\n",
        " while count < 5:\n",
        "    value = float(input(f\"Enter a number {count + 1}: \"))\n",
        "    total = total + value\n",
        "    count = count + 1\n",
        "    average = total/5\n",
        " print(\"The average is:\", average)\n",
        "u_average()"
      ],
      "metadata": {
        "colab": {
          "base_uri": "https://localhost:8080/"
        },
        "id": "e_-HDB5FR-G3",
        "outputId": "4e003f53-f4f6-446a-8580-d2035eed5d0f"
      },
      "execution_count": null,
      "outputs": [
        {
          "output_type": "stream",
          "name": "stdout",
          "text": [
            "Enter a number 1: 5\n",
            "Enter a number 2: 10\n",
            "Enter a number 3: 5\n",
            "Enter a number 4: 20\n",
            "Enter a number 5: 3\n",
            "The average is: 8.6\n"
          ]
        }
      ]
    }
  ]
}